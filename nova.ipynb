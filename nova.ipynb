{
 "cells": [
  {
   "cell_type": "code",
   "execution_count": null,
   "metadata": {},
   "outputs": [],
   "source": [
    "import json\n",
    "import boto3\n",
    "\n",
    "lambda_client = boto3.client('lambda')\n",
    "lambda_name = 'video-understand'\n",
    "\n",
    "video_list = []\n",
    "\n",
    "for url in video_list:\n",
    "    data = {\n",
    "        \"video_url\": url\n",
    "    }\n",
    "\n",
    "    response = lambda_client.invoke(\n",
    "        FunctionName=lambda_name,\n",
    "        InvocationType='RequestResponse',\n",
    "        Payload=json.dumps(data)\n",
    "    )\n",
    "\n",
    "    response_payload = response['Payload'].read().decode('utf-8')\n",
    "    response_obj = json.loads(response_payload)\n",
    "\n",
    "    print(response_obj)\n"
   ]
  }
 ],
 "metadata": {
  "kernelspec": {
   "display_name": "base",
   "language": "python",
   "name": "python3"
  },
  "language_info": {
   "codemirror_mode": {
    "name": "ipython",
    "version": 3
   },
   "file_extension": ".py",
   "mimetype": "text/x-python",
   "name": "python",
   "nbconvert_exporter": "python",
   "pygments_lexer": "ipython3",
   "version": "3.11.4"
  }
 },
 "nbformat": 4,
 "nbformat_minor": 2
}
